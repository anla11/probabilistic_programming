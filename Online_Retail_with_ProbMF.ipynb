{
  "nbformat": 4,
  "nbformat_minor": 0,
  "metadata": {
    "colab": {
      "provenance": [],
      "collapsed_sections": [
        "ZzwtKA9JjVGh"
      ],
      "toc_visible": true
    },
    "kernelspec": {
      "name": "python3",
      "display_name": "Python 3"
    }
  },
  "cells": [
    {
      "cell_type": "markdown",
      "metadata": {
        "id": "JODeE75ajg6l"
      },
      "source": [
        "# Data processing"
      ]
    },
    {
      "cell_type": "markdown",
      "metadata": {
        "id": "cuSeRLu4e40T"
      },
      "source": [
        "## Read and Preprocess data"
      ]
    },
    {
      "cell_type": "code",
      "metadata": {
        "id": "i_ucRWdge2h-"
      },
      "source": [
        "import numpy as np\n",
        "import pandas as pd\n",
        "import matplotlib.pyplot as plt"
      ],
      "execution_count": null,
      "outputs": []
    },
    {
      "cell_type": "code",
      "metadata": {
        "colab": {
          "base_uri": "https://localhost:8080/",
          "height": 35
        },
        "id": "oHo8fsPdKZPq",
        "outputId": "747a3108-551d-4eea-b818-689dd4829876"
      },
      "source": [
        "import torch\n",
        "import pyro\n",
        "pyro.__version__"
      ],
      "execution_count": null,
      "outputs": [
        {
          "output_type": "execute_result",
          "data": {
            "application/vnd.google.colaboratory.intrinsic+json": {
              "type": "string"
            },
            "text/plain": [
              "'1.5.1'"
            ]
          },
          "metadata": {
            "tags": []
          },
          "execution_count": 2
        }
      ]
    },
    {
      "cell_type": "code",
      "metadata": {
        "id": "cGn9dK1WfkGM"
      },
      "source": [
        "def create_mapping(list1, list2):\n",
        "\treturn dict(zip(list1, list2))\n",
        "def convert_mapping(mapping, encode_list):\n",
        "\treturn list(map(lambda x: mapping[x], encode_list))"
      ],
      "execution_count": null,
      "outputs": []
    },
    {
      "cell_type": "code",
      "metadata": {
        "colab": {
          "base_uri": "https://localhost:8080/",
          "height": 195
        },
        "id": "h9tvVC86e-4o",
        "outputId": "2b3a7771-c6f6-497a-bf1d-e08005c74643"
      },
      "source": [
        "data_full = pd.read_excel(\"https://archive.ics.uci.edu/ml/machine-learning-databases/00352/Online%20Retail.xlsx\", dtype=str)\n",
        "data_full.head()"
      ],
      "execution_count": null,
      "outputs": [
        {
          "output_type": "execute_result",
          "data": {
            "text/html": [
              "<div>\n",
              "<style scoped>\n",
              "    .dataframe tbody tr th:only-of-type {\n",
              "        vertical-align: middle;\n",
              "    }\n",
              "\n",
              "    .dataframe tbody tr th {\n",
              "        vertical-align: top;\n",
              "    }\n",
              "\n",
              "    .dataframe thead th {\n",
              "        text-align: right;\n",
              "    }\n",
              "</style>\n",
              "<table border=\"1\" class=\"dataframe\">\n",
              "  <thead>\n",
              "    <tr style=\"text-align: right;\">\n",
              "      <th></th>\n",
              "      <th>InvoiceNo</th>\n",
              "      <th>StockCode</th>\n",
              "      <th>Description</th>\n",
              "      <th>Quantity</th>\n",
              "      <th>InvoiceDate</th>\n",
              "      <th>UnitPrice</th>\n",
              "      <th>CustomerID</th>\n",
              "      <th>Country</th>\n",
              "    </tr>\n",
              "  </thead>\n",
              "  <tbody>\n",
              "    <tr>\n",
              "      <th>0</th>\n",
              "      <td>536365</td>\n",
              "      <td>85123A</td>\n",
              "      <td>WHITE HANGING HEART T-LIGHT HOLDER</td>\n",
              "      <td>6</td>\n",
              "      <td>2010-12-01 08:26:00</td>\n",
              "      <td>2.55</td>\n",
              "      <td>17850</td>\n",
              "      <td>United Kingdom</td>\n",
              "    </tr>\n",
              "    <tr>\n",
              "      <th>1</th>\n",
              "      <td>536365</td>\n",
              "      <td>71053</td>\n",
              "      <td>WHITE METAL LANTERN</td>\n",
              "      <td>6</td>\n",
              "      <td>2010-12-01 08:26:00</td>\n",
              "      <td>3.39</td>\n",
              "      <td>17850</td>\n",
              "      <td>United Kingdom</td>\n",
              "    </tr>\n",
              "    <tr>\n",
              "      <th>2</th>\n",
              "      <td>536365</td>\n",
              "      <td>84406B</td>\n",
              "      <td>CREAM CUPID HEARTS COAT HANGER</td>\n",
              "      <td>8</td>\n",
              "      <td>2010-12-01 08:26:00</td>\n",
              "      <td>2.75</td>\n",
              "      <td>17850</td>\n",
              "      <td>United Kingdom</td>\n",
              "    </tr>\n",
              "    <tr>\n",
              "      <th>3</th>\n",
              "      <td>536365</td>\n",
              "      <td>84029G</td>\n",
              "      <td>KNITTED UNION FLAG HOT WATER BOTTLE</td>\n",
              "      <td>6</td>\n",
              "      <td>2010-12-01 08:26:00</td>\n",
              "      <td>3.39</td>\n",
              "      <td>17850</td>\n",
              "      <td>United Kingdom</td>\n",
              "    </tr>\n",
              "    <tr>\n",
              "      <th>4</th>\n",
              "      <td>536365</td>\n",
              "      <td>84029E</td>\n",
              "      <td>RED WOOLLY HOTTIE WHITE HEART.</td>\n",
              "      <td>6</td>\n",
              "      <td>2010-12-01 08:26:00</td>\n",
              "      <td>3.39</td>\n",
              "      <td>17850</td>\n",
              "      <td>United Kingdom</td>\n",
              "    </tr>\n",
              "  </tbody>\n",
              "</table>\n",
              "</div>"
            ],
            "text/plain": [
              "  InvoiceNo StockCode  ... CustomerID         Country\n",
              "0    536365    85123A  ...      17850  United Kingdom\n",
              "1    536365     71053  ...      17850  United Kingdom\n",
              "2    536365    84406B  ...      17850  United Kingdom\n",
              "3    536365    84029G  ...      17850  United Kingdom\n",
              "4    536365    84029E  ...      17850  United Kingdom\n",
              "\n",
              "[5 rows x 8 columns]"
            ]
          },
          "metadata": {
            "tags": []
          },
          "execution_count": 4
        }
      ]
    },
    {
      "cell_type": "code",
      "metadata": {
        "colab": {
          "base_uri": "https://localhost:8080/"
        },
        "id": "nH6mo_-EfBkM",
        "outputId": "1ce21c47-00dc-45ba-f530-898b5c916c5b"
      },
      "source": [
        "for col in ['UnitPrice', 'Quantity']:\n",
        "    data_full[col] = np.array(data_full[col]).astype(float)\n",
        "data_full.info()"
      ],
      "execution_count": null,
      "outputs": [
        {
          "output_type": "stream",
          "text": [
            "<class 'pandas.core.frame.DataFrame'>\n",
            "RangeIndex: 541909 entries, 0 to 541908\n",
            "Data columns (total 8 columns):\n",
            " #   Column       Non-Null Count   Dtype  \n",
            "---  ------       --------------   -----  \n",
            " 0   InvoiceNo    541909 non-null  object \n",
            " 1   StockCode    541909 non-null  object \n",
            " 2   Description  540455 non-null  object \n",
            " 3   Quantity     541909 non-null  float64\n",
            " 4   InvoiceDate  541909 non-null  object \n",
            " 5   UnitPrice    541909 non-null  float64\n",
            " 6   CustomerID   406829 non-null  object \n",
            " 7   Country      541909 non-null  object \n",
            "dtypes: float64(2), object(6)\n",
            "memory usage: 33.1+ MB\n"
          ],
          "name": "stdout"
        }
      ]
    },
    {
      "cell_type": "code",
      "metadata": {
        "colab": {
          "base_uri": "https://localhost:8080/",
          "height": 212
        },
        "id": "G4FSvV2QfBw7",
        "outputId": "3c2741f7-4238-4213-b9f5-1fffb6d76d14"
      },
      "source": [
        "np.random.seed(0)\n",
        "Invoice_list = data_full.InvoiceNo.unique()\n",
        "rand_idx = np.random.randint(0, len(Invoice_list), len(Invoice_list))\n",
        "Invoice_train, Invoice_test = Invoice_list[rand_idx][:int(0.9*len(Invoice_list))], Invoice_list[rand_idx][int(0.9*len(Invoice_list)):]\n",
        "data, test_data = data_full[data_full.InvoiceNo.isin(Invoice_train)], data_full[data_full.InvoiceNo.isin(Invoice_test)]\n",
        "print (len(Invoice_train), data.InvoiceNo.nunique(), len(Invoice_test), test_data.InvoiceNo.nunique())\n",
        "data.head()"
      ],
      "execution_count": null,
      "outputs": [
        {
          "output_type": "stream",
          "text": [
            "23310 15411 2590 2474\n"
          ],
          "name": "stdout"
        },
        {
          "output_type": "execute_result",
          "data": {
            "text/html": [
              "<div>\n",
              "<style scoped>\n",
              "    .dataframe tbody tr th:only-of-type {\n",
              "        vertical-align: middle;\n",
              "    }\n",
              "\n",
              "    .dataframe tbody tr th {\n",
              "        vertical-align: top;\n",
              "    }\n",
              "\n",
              "    .dataframe thead th {\n",
              "        text-align: right;\n",
              "    }\n",
              "</style>\n",
              "<table border=\"1\" class=\"dataframe\">\n",
              "  <thead>\n",
              "    <tr style=\"text-align: right;\">\n",
              "      <th></th>\n",
              "      <th>InvoiceNo</th>\n",
              "      <th>StockCode</th>\n",
              "      <th>Description</th>\n",
              "      <th>Quantity</th>\n",
              "      <th>InvoiceDate</th>\n",
              "      <th>UnitPrice</th>\n",
              "      <th>CustomerID</th>\n",
              "      <th>Country</th>\n",
              "    </tr>\n",
              "  </thead>\n",
              "  <tbody>\n",
              "    <tr>\n",
              "      <th>7</th>\n",
              "      <td>536366</td>\n",
              "      <td>22633</td>\n",
              "      <td>HAND WARMER UNION JACK</td>\n",
              "      <td>6.0</td>\n",
              "      <td>2010-12-01 08:28:00</td>\n",
              "      <td>1.85</td>\n",
              "      <td>17850</td>\n",
              "      <td>United Kingdom</td>\n",
              "    </tr>\n",
              "    <tr>\n",
              "      <th>8</th>\n",
              "      <td>536366</td>\n",
              "      <td>22632</td>\n",
              "      <td>HAND WARMER RED POLKA DOT</td>\n",
              "      <td>6.0</td>\n",
              "      <td>2010-12-01 08:28:00</td>\n",
              "      <td>1.85</td>\n",
              "      <td>17850</td>\n",
              "      <td>United Kingdom</td>\n",
              "    </tr>\n",
              "    <tr>\n",
              "      <th>9</th>\n",
              "      <td>536367</td>\n",
              "      <td>84879</td>\n",
              "      <td>ASSORTED COLOUR BIRD ORNAMENT</td>\n",
              "      <td>32.0</td>\n",
              "      <td>2010-12-01 08:34:00</td>\n",
              "      <td>1.69</td>\n",
              "      <td>13047</td>\n",
              "      <td>United Kingdom</td>\n",
              "    </tr>\n",
              "    <tr>\n",
              "      <th>10</th>\n",
              "      <td>536367</td>\n",
              "      <td>22745</td>\n",
              "      <td>POPPY'S PLAYHOUSE BEDROOM</td>\n",
              "      <td>6.0</td>\n",
              "      <td>2010-12-01 08:34:00</td>\n",
              "      <td>2.10</td>\n",
              "      <td>13047</td>\n",
              "      <td>United Kingdom</td>\n",
              "    </tr>\n",
              "    <tr>\n",
              "      <th>11</th>\n",
              "      <td>536367</td>\n",
              "      <td>22748</td>\n",
              "      <td>POPPY'S PLAYHOUSE KITCHEN</td>\n",
              "      <td>6.0</td>\n",
              "      <td>2010-12-01 08:34:00</td>\n",
              "      <td>2.10</td>\n",
              "      <td>13047</td>\n",
              "      <td>United Kingdom</td>\n",
              "    </tr>\n",
              "  </tbody>\n",
              "</table>\n",
              "</div>"
            ],
            "text/plain": [
              "   InvoiceNo StockCode  ... CustomerID         Country\n",
              "7     536366     22633  ...      17850  United Kingdom\n",
              "8     536366     22632  ...      17850  United Kingdom\n",
              "9     536367     84879  ...      13047  United Kingdom\n",
              "10    536367     22745  ...      13047  United Kingdom\n",
              "11    536367     22748  ...      13047  United Kingdom\n",
              "\n",
              "[5 rows x 8 columns]"
            ]
          },
          "metadata": {
            "tags": []
          },
          "execution_count": 6
        }
      ]
    },
    {
      "cell_type": "code",
      "metadata": {
        "colab": {
          "base_uri": "https://localhost:8080/",
          "height": 414
        },
        "id": "lE8zpgSxfMlG",
        "outputId": "8810fda4-7cfd-49a7-bbf2-198f05925542"
      },
      "source": [
        "Invoice_list = data_full.InvoiceNo.unique()\n",
        "data['StockCode']=data['StockCode'].apply(lambda r: r.upper())\n",
        "data['Invalid_Description'] = data['Description'].apply(lambda r: r.isupper()==False if pd.isnull(r)==False else True)\n",
        "data = data[data.Invalid_Description==False]\n",
        "del data['Invalid_Description']\n",
        "\n",
        "product_id = data[['StockCode', 'Description']].drop_duplicates(subset='StockCode')\n",
        "stock2dec_mapping = create_mapping(product_id.StockCode, product_id.Description)\n",
        "print (len(product_id))\n",
        "product_id.head()"
      ],
      "execution_count": null,
      "outputs": [
        {
          "output_type": "stream",
          "text": [
            "/usr/local/lib/python3.6/dist-packages/ipykernel_launcher.py:2: SettingWithCopyWarning: \n",
            "A value is trying to be set on a copy of a slice from a DataFrame.\n",
            "Try using .loc[row_indexer,col_indexer] = value instead\n",
            "\n",
            "See the caveats in the documentation: https://pandas.pydata.org/pandas-docs/stable/user_guide/indexing.html#returning-a-view-versus-a-copy\n",
            "  \n",
            "/usr/local/lib/python3.6/dist-packages/ipykernel_launcher.py:3: SettingWithCopyWarning: \n",
            "A value is trying to be set on a copy of a slice from a DataFrame.\n",
            "Try using .loc[row_indexer,col_indexer] = value instead\n",
            "\n",
            "See the caveats in the documentation: https://pandas.pydata.org/pandas-docs/stable/user_guide/indexing.html#returning-a-view-versus-a-copy\n",
            "  This is separate from the ipykernel package so we can avoid doing imports until\n"
          ],
          "name": "stderr"
        },
        {
          "output_type": "stream",
          "text": [
            "3696\n"
          ],
          "name": "stdout"
        },
        {
          "output_type": "execute_result",
          "data": {
            "text/html": [
              "<div>\n",
              "<style scoped>\n",
              "    .dataframe tbody tr th:only-of-type {\n",
              "        vertical-align: middle;\n",
              "    }\n",
              "\n",
              "    .dataframe tbody tr th {\n",
              "        vertical-align: top;\n",
              "    }\n",
              "\n",
              "    .dataframe thead th {\n",
              "        text-align: right;\n",
              "    }\n",
              "</style>\n",
              "<table border=\"1\" class=\"dataframe\">\n",
              "  <thead>\n",
              "    <tr style=\"text-align: right;\">\n",
              "      <th></th>\n",
              "      <th>StockCode</th>\n",
              "      <th>Description</th>\n",
              "    </tr>\n",
              "  </thead>\n",
              "  <tbody>\n",
              "    <tr>\n",
              "      <th>7</th>\n",
              "      <td>22633</td>\n",
              "      <td>HAND WARMER UNION JACK</td>\n",
              "    </tr>\n",
              "    <tr>\n",
              "      <th>8</th>\n",
              "      <td>22632</td>\n",
              "      <td>HAND WARMER RED POLKA DOT</td>\n",
              "    </tr>\n",
              "    <tr>\n",
              "      <th>9</th>\n",
              "      <td>84879</td>\n",
              "      <td>ASSORTED COLOUR BIRD ORNAMENT</td>\n",
              "    </tr>\n",
              "    <tr>\n",
              "      <th>10</th>\n",
              "      <td>22745</td>\n",
              "      <td>POPPY'S PLAYHOUSE BEDROOM</td>\n",
              "    </tr>\n",
              "    <tr>\n",
              "      <th>11</th>\n",
              "      <td>22748</td>\n",
              "      <td>POPPY'S PLAYHOUSE KITCHEN</td>\n",
              "    </tr>\n",
              "  </tbody>\n",
              "</table>\n",
              "</div>"
            ],
            "text/plain": [
              "   StockCode                    Description\n",
              "7      22633         HAND WARMER UNION JACK\n",
              "8      22632      HAND WARMER RED POLKA DOT\n",
              "9      84879  ASSORTED COLOUR BIRD ORNAMENT\n",
              "10     22745     POPPY'S PLAYHOUSE BEDROOM \n",
              "11     22748      POPPY'S PLAYHOUSE KITCHEN"
            ]
          },
          "metadata": {
            "tags": []
          },
          "execution_count": 7
        }
      ]
    },
    {
      "cell_type": "code",
      "metadata": {
        "colab": {
          "base_uri": "https://localhost:8080/",
          "height": 212
        },
        "id": "rXX_O9iNRRTs",
        "outputId": "fce8d446-569b-4714-a6b5-ed154be2a9d4"
      },
      "source": [
        "product_id = data[['StockCode', 'Description']].drop_duplicates(subset='StockCode')\n",
        "print (len(product_id))\n",
        "product_id.head()"
      ],
      "execution_count": null,
      "outputs": [
        {
          "output_type": "stream",
          "text": [
            "3696\n"
          ],
          "name": "stdout"
        },
        {
          "output_type": "execute_result",
          "data": {
            "text/html": [
              "<div>\n",
              "<style scoped>\n",
              "    .dataframe tbody tr th:only-of-type {\n",
              "        vertical-align: middle;\n",
              "    }\n",
              "\n",
              "    .dataframe tbody tr th {\n",
              "        vertical-align: top;\n",
              "    }\n",
              "\n",
              "    .dataframe thead th {\n",
              "        text-align: right;\n",
              "    }\n",
              "</style>\n",
              "<table border=\"1\" class=\"dataframe\">\n",
              "  <thead>\n",
              "    <tr style=\"text-align: right;\">\n",
              "      <th></th>\n",
              "      <th>StockCode</th>\n",
              "      <th>Description</th>\n",
              "    </tr>\n",
              "  </thead>\n",
              "  <tbody>\n",
              "    <tr>\n",
              "      <th>7</th>\n",
              "      <td>22633</td>\n",
              "      <td>HAND WARMER UNION JACK</td>\n",
              "    </tr>\n",
              "    <tr>\n",
              "      <th>8</th>\n",
              "      <td>22632</td>\n",
              "      <td>HAND WARMER RED POLKA DOT</td>\n",
              "    </tr>\n",
              "    <tr>\n",
              "      <th>9</th>\n",
              "      <td>84879</td>\n",
              "      <td>ASSORTED COLOUR BIRD ORNAMENT</td>\n",
              "    </tr>\n",
              "    <tr>\n",
              "      <th>10</th>\n",
              "      <td>22745</td>\n",
              "      <td>POPPY'S PLAYHOUSE BEDROOM</td>\n",
              "    </tr>\n",
              "    <tr>\n",
              "      <th>11</th>\n",
              "      <td>22748</td>\n",
              "      <td>POPPY'S PLAYHOUSE KITCHEN</td>\n",
              "    </tr>\n",
              "  </tbody>\n",
              "</table>\n",
              "</div>"
            ],
            "text/plain": [
              "   StockCode                    Description\n",
              "7      22633         HAND WARMER UNION JACK\n",
              "8      22632      HAND WARMER RED POLKA DOT\n",
              "9      84879  ASSORTED COLOUR BIRD ORNAMENT\n",
              "10     22745     POPPY'S PLAYHOUSE BEDROOM \n",
              "11     22748      POPPY'S PLAYHOUSE KITCHEN"
            ]
          },
          "metadata": {
            "tags": []
          },
          "execution_count": 8
        }
      ]
    },
    {
      "cell_type": "markdown",
      "metadata": {
        "id": "Y6dVtEjljbm_"
      },
      "source": [
        "## Prepare matrix training data"
      ]
    },
    {
      "cell_type": "code",
      "metadata": {
        "colab": {
          "base_uri": "https://localhost:8080/",
          "height": 195
        },
        "id": "hUFNXywCjlqN",
        "outputId": "a58b727e-1cc8-4eee-98ff-253836dd1157"
      },
      "source": [
        "data['Month'] = data.InvoiceDate.apply(lambda r: str(r)[:7])\n",
        "data.head()"
      ],
      "execution_count": null,
      "outputs": [
        {
          "output_type": "execute_result",
          "data": {
            "text/html": [
              "<div>\n",
              "<style scoped>\n",
              "    .dataframe tbody tr th:only-of-type {\n",
              "        vertical-align: middle;\n",
              "    }\n",
              "\n",
              "    .dataframe tbody tr th {\n",
              "        vertical-align: top;\n",
              "    }\n",
              "\n",
              "    .dataframe thead th {\n",
              "        text-align: right;\n",
              "    }\n",
              "</style>\n",
              "<table border=\"1\" class=\"dataframe\">\n",
              "  <thead>\n",
              "    <tr style=\"text-align: right;\">\n",
              "      <th></th>\n",
              "      <th>InvoiceNo</th>\n",
              "      <th>StockCode</th>\n",
              "      <th>Description</th>\n",
              "      <th>Quantity</th>\n",
              "      <th>InvoiceDate</th>\n",
              "      <th>UnitPrice</th>\n",
              "      <th>CustomerID</th>\n",
              "      <th>Country</th>\n",
              "      <th>Month</th>\n",
              "    </tr>\n",
              "  </thead>\n",
              "  <tbody>\n",
              "    <tr>\n",
              "      <th>7</th>\n",
              "      <td>536366</td>\n",
              "      <td>22633</td>\n",
              "      <td>HAND WARMER UNION JACK</td>\n",
              "      <td>6.0</td>\n",
              "      <td>2010-12-01 08:28:00</td>\n",
              "      <td>1.85</td>\n",
              "      <td>17850</td>\n",
              "      <td>United Kingdom</td>\n",
              "      <td>2010-12</td>\n",
              "    </tr>\n",
              "    <tr>\n",
              "      <th>8</th>\n",
              "      <td>536366</td>\n",
              "      <td>22632</td>\n",
              "      <td>HAND WARMER RED POLKA DOT</td>\n",
              "      <td>6.0</td>\n",
              "      <td>2010-12-01 08:28:00</td>\n",
              "      <td>1.85</td>\n",
              "      <td>17850</td>\n",
              "      <td>United Kingdom</td>\n",
              "      <td>2010-12</td>\n",
              "    </tr>\n",
              "    <tr>\n",
              "      <th>9</th>\n",
              "      <td>536367</td>\n",
              "      <td>84879</td>\n",
              "      <td>ASSORTED COLOUR BIRD ORNAMENT</td>\n",
              "      <td>32.0</td>\n",
              "      <td>2010-12-01 08:34:00</td>\n",
              "      <td>1.69</td>\n",
              "      <td>13047</td>\n",
              "      <td>United Kingdom</td>\n",
              "      <td>2010-12</td>\n",
              "    </tr>\n",
              "    <tr>\n",
              "      <th>10</th>\n",
              "      <td>536367</td>\n",
              "      <td>22745</td>\n",
              "      <td>POPPY'S PLAYHOUSE BEDROOM</td>\n",
              "      <td>6.0</td>\n",
              "      <td>2010-12-01 08:34:00</td>\n",
              "      <td>2.10</td>\n",
              "      <td>13047</td>\n",
              "      <td>United Kingdom</td>\n",
              "      <td>2010-12</td>\n",
              "    </tr>\n",
              "    <tr>\n",
              "      <th>11</th>\n",
              "      <td>536367</td>\n",
              "      <td>22748</td>\n",
              "      <td>POPPY'S PLAYHOUSE KITCHEN</td>\n",
              "      <td>6.0</td>\n",
              "      <td>2010-12-01 08:34:00</td>\n",
              "      <td>2.10</td>\n",
              "      <td>13047</td>\n",
              "      <td>United Kingdom</td>\n",
              "      <td>2010-12</td>\n",
              "    </tr>\n",
              "  </tbody>\n",
              "</table>\n",
              "</div>"
            ],
            "text/plain": [
              "   InvoiceNo StockCode  ...         Country    Month\n",
              "7     536366     22633  ...  United Kingdom  2010-12\n",
              "8     536366     22632  ...  United Kingdom  2010-12\n",
              "9     536367     84879  ...  United Kingdom  2010-12\n",
              "10    536367     22745  ...  United Kingdom  2010-12\n",
              "11    536367     22748  ...  United Kingdom  2010-12\n",
              "\n",
              "[5 rows x 9 columns]"
            ]
          },
          "metadata": {
            "tags": []
          },
          "execution_count": 9
        }
      ]
    },
    {
      "cell_type": "code",
      "metadata": {
        "colab": {
          "base_uri": "https://localhost:8080/"
        },
        "id": "uewN8vN-jzO4",
        "outputId": "913f3615-d97a-4c8e-946c-29614f912b09"
      },
      "source": [
        "data.Month.value_counts()"
      ],
      "execution_count": null,
      "outputs": [
        {
          "output_type": "execute_result",
          "data": {
            "text/plain": [
              "2011-11    47763\n",
              "2011-10    35233\n",
              "2011-09    28231\n",
              "2010-12    23076\n",
              "2011-07    22902\n",
              "2011-03    22332\n",
              "2011-01    21303\n",
              "2011-05    21175\n",
              "2011-06    21096\n",
              "2011-08    20998\n",
              "2011-04    17114\n",
              "2011-02    16076\n",
              "2011-12    15837\n",
              "Name: Month, dtype: int64"
            ]
          },
          "metadata": {
            "tags": []
          },
          "execution_count": 10
        }
      ]
    },
    {
      "cell_type": "code",
      "metadata": {
        "colab": {
          "base_uri": "https://localhost:8080/"
        },
        "id": "-CjTNyGLj93t",
        "outputId": "4520404d-261f-457b-f89d-28c6e0f54f5c"
      },
      "source": [
        "data[data.Month == '2011-01'].nunique()"
      ],
      "execution_count": null,
      "outputs": [
        {
          "output_type": "execute_result",
          "data": {
            "text/plain": [
              "InvoiceNo       805\n",
              "StockCode      2343\n",
              "Description    2336\n",
              "Quantity        107\n",
              "InvoiceDate     775\n",
              "UnitPrice       272\n",
              "CustomerID      536\n",
              "Country          20\n",
              "Month             1\n",
              "dtype: int64"
            ]
          },
          "metadata": {
            "tags": []
          },
          "execution_count": 11
        }
      ]
    },
    {
      "cell_type": "code",
      "metadata": {
        "colab": {
          "base_uri": "https://localhost:8080/",
          "height": 195
        },
        "id": "uVxPsFrNV_lq",
        "outputId": "3632cc2a-b060-46bb-c0bf-5513a96da467"
      },
      "source": [
        "freq = data.groupby(['CustomerID'])['StockCode'].value_counts(normalize=True).reset_index(name='frequency')\n",
        "cus2idx_mapping = create_mapping(freq['CustomerID'].unique(),range(len(freq)))\n",
        "prod2idx_mapping = create_mapping(product_id['StockCode'],range(len(product_id)))\n",
        "freq['Customer_idx'] = convert_mapping(cus2idx_mapping, freq['CustomerID'])\n",
        "freq['Stock_idx'] = convert_mapping(prod2idx_mapping, freq['StockCode'])\n",
        "freq.head()"
      ],
      "execution_count": null,
      "outputs": [
        {
          "output_type": "execute_result",
          "data": {
            "text/html": [
              "<div>\n",
              "<style scoped>\n",
              "    .dataframe tbody tr th:only-of-type {\n",
              "        vertical-align: middle;\n",
              "    }\n",
              "\n",
              "    .dataframe tbody tr th {\n",
              "        vertical-align: top;\n",
              "    }\n",
              "\n",
              "    .dataframe thead th {\n",
              "        text-align: right;\n",
              "    }\n",
              "</style>\n",
              "<table border=\"1\" class=\"dataframe\">\n",
              "  <thead>\n",
              "    <tr style=\"text-align: right;\">\n",
              "      <th></th>\n",
              "      <th>CustomerID</th>\n",
              "      <th>StockCode</th>\n",
              "      <th>frequency</th>\n",
              "      <th>Customer_idx</th>\n",
              "      <th>Stock_idx</th>\n",
              "    </tr>\n",
              "  </thead>\n",
              "  <tbody>\n",
              "    <tr>\n",
              "      <th>0</th>\n",
              "      <td>12346</td>\n",
              "      <td>23166</td>\n",
              "      <td>1.000000</td>\n",
              "      <td>0</td>\n",
              "      <td>2640</td>\n",
              "    </tr>\n",
              "    <tr>\n",
              "      <th>1</th>\n",
              "      <td>12347</td>\n",
              "      <td>22375</td>\n",
              "      <td>0.041096</td>\n",
              "      <td>1</td>\n",
              "      <td>599</td>\n",
              "    </tr>\n",
              "    <tr>\n",
              "      <th>2</th>\n",
              "      <td>12347</td>\n",
              "      <td>21731</td>\n",
              "      <td>0.027397</td>\n",
              "      <td>1</td>\n",
              "      <td>27</td>\n",
              "    </tr>\n",
              "    <tr>\n",
              "      <th>3</th>\n",
              "      <td>12347</td>\n",
              "      <td>22195</td>\n",
              "      <td>0.027397</td>\n",
              "      <td>1</td>\n",
              "      <td>145</td>\n",
              "    </tr>\n",
              "    <tr>\n",
              "      <th>4</th>\n",
              "      <td>12347</td>\n",
              "      <td>22196</td>\n",
              "      <td>0.027397</td>\n",
              "      <td>1</td>\n",
              "      <td>146</td>\n",
              "    </tr>\n",
              "  </tbody>\n",
              "</table>\n",
              "</div>"
            ],
            "text/plain": [
              "  CustomerID StockCode  frequency  Customer_idx  Stock_idx\n",
              "0      12346     23166   1.000000             0       2640\n",
              "1      12347     22375   0.041096             1        599\n",
              "2      12347     21731   0.027397             1         27\n",
              "3      12347     22195   0.027397             1        145\n",
              "4      12347     22196   0.027397             1        146"
            ]
          },
          "metadata": {
            "tags": []
          },
          "execution_count": 12
        }
      ]
    },
    {
      "cell_type": "code",
      "metadata": {
        "id": "dXHuJQ-qY7Ky"
      },
      "source": [
        "# plt.hist(scale_minmax(torch.from_numpy(np.log(np.array(freq['frequency'])))))"
      ],
      "execution_count": null,
      "outputs": []
    },
    {
      "cell_type": "code",
      "metadata": {
        "colab": {
          "base_uri": "https://localhost:8080/"
        },
        "id": "hGRKV4BeBsNL",
        "outputId": "e9869d9a-bf9a-46ae-c89c-387fbe03332b"
      },
      "source": [
        "X_user = torch.from_numpy(np.array(freq.Customer_idx).astype(int))\n",
        "X_item = torch.from_numpy(np.array(freq.Stock_idx).astype(int))\n",
        "Y = torch.from_numpy(np.array(freq.frequency).astype(float))\n",
        "print (X_user.shape, X_item.shape, Y.shape)"
      ],
      "execution_count": null,
      "outputs": [
        {
          "output_type": "stream",
          "text": [
            "torch.Size([176323]) torch.Size([176323]) torch.Size([176323])\n"
          ],
          "name": "stdout"
        }
      ]
    },
    {
      "cell_type": "code",
      "metadata": {
        "id": "NSfAH326JJ9i"
      },
      "source": [
        "n_user, n_item = len(cus2idx_mapping), len(prod2idx_mapping)"
      ],
      "execution_count": null,
      "outputs": []
    },
    {
      "cell_type": "code",
      "metadata": {
        "colab": {
          "base_uri": "https://localhost:8080/",
          "height": 366
        },
        "id": "K13vUyYCZ2JL",
        "outputId": "b4acac2a-8d0a-45d4-821a-ce6699ac82a1"
      },
      "source": [
        "plt.hist(np.log(Y.data.numpy()).reshape(-1, 1))"
      ],
      "execution_count": null,
      "outputs": [
        {
          "output_type": "execute_result",
          "data": {
            "text/plain": [
              "(array([ 2596.,  4174., 11242., 39117., 52909., 43081., 17607.,  4440.,\n",
              "          830.,   327.]),\n",
              " array([-8.28778003, -7.45900202, -6.63022402, -5.80144602, -4.97266802,\n",
              "        -4.14389001, -3.31511201, -2.48633401, -1.65755601, -0.828778  ,\n",
              "         0.        ]),\n",
              " <a list of 10 Patch objects>)"
            ]
          },
          "metadata": {
            "tags": []
          },
          "execution_count": 16
        },
        {
          "output_type": "display_data",
          "data": {
            "image/png": "[encoded data removed]",
            "text/plain": [
              "<Figure size 432x288 with 1 Axes>"
            ]
          },
          "metadata": {
            "tags": [],
            "needs_background": "light"
          }
        }
      ]
    },
    {
      "cell_type": "code",
      "metadata": {
        "id": "WCa1Gc_RknKZ"
      },
      "source": [
        "del interaction_matrix\n",
        "interaction_matrix = np.zeros((n_user, n_item))+np.log(1e-18)\n",
        "interaction_matrix[np.array(freq.Customer_idx).astype(int), np.array(freq.Stock_idx).astype(int)] = np.log(np.array(freq.frequency)).astype(float)"
      ],
      "execution_count": null,
      "outputs": []
    },
    {
      "cell_type": "code",
      "metadata": {
        "colab": {
          "base_uri": "https://localhost:8080/"
        },
        "id": "1DNVo916lSnB",
        "outputId": "7d47e390-a8c6-416f-db38-f59fd9217af2"
      },
      "source": [
        "import torch\n",
        "\n",
        "vmin, vmax = np.min(interaction_matrix), np.max(interaction_matrix)\n",
        "vmin = np.min(np.log(freq.frequency))\n",
        "scale_rating = (interaction_matrix-vmin)/(vmax-vmin)\n",
        "ratings = torch.from_numpy(scale_rating).float()\n",
        "''' normalize values by items - experiences show that it leads to increase MAE '''\n",
        "for j in range(scale_rating.shape[1]):\n",
        "    scale_rating[:, j] = scale_rating[:, j]/np.sum(scale_rating[:, j])\n",
        "Identity = torch.from_numpy(scale_rating).float()\n",
        "del scale_rating\n",
        "print (ratings.shape, Identity.shape)"
      ],
      "execution_count": null,
      "outputs": [
        {
          "output_type": "stream",
          "text": [
            "torch.Size([3655, 3696]) torch.Size([3655, 3696])\n"
          ],
          "name": "stdout"
        }
      ]
    },
    {
      "cell_type": "code",
      "metadata": {
        "colab": {
          "base_uri": "https://localhost:8080/",
          "height": 377
        },
        "id": "iegMX8gclsGp",
        "outputId": "38d081f1-414e-4c12-ae56-af021a8041b4"
      },
      "source": [
        "plt.hist(ratings.data.numpy().reshape(-1, 1))"
      ],
      "execution_count": null,
      "outputs": [
        {
          "output_type": "execute_result",
          "data": {
            "text/plain": [
              "(array([13332557.,        0.,        0.,        0.,        0.,        0.,\n",
              "               0.,        0.,   110038.,    66285.]),\n",
              " array([-4.0009208e+00, -3.5008287e+00, -3.0007367e+00, -2.5006444e+00,\n",
              "        -2.0005524e+00, -1.5004604e+00, -1.0003684e+00, -5.0027621e-01,\n",
              "        -1.8415452e-04,  4.9990791e-01,  1.0000000e+00], dtype=float32),\n",
              " <a list of 10 Patch objects>)"
            ]
          },
          "metadata": {
            "tags": []
          },
          "execution_count": 43
        },
        {
          "output_type": "display_data",
          "data": {
            "image/png": "[encoded data removed]",
            "text/plain": [
              "<Figure size 432x288 with 1 Axes>"
            ]
          },
          "metadata": {
            "tags": [],
            "needs_background": "light"
          }
        }
      ]
    },
    {
      "cell_type": "markdown",
      "metadata": {
        "id": "Cf7yTb9Hh_Rt"
      },
      "source": [
        "# Visualize functions"
      ]
    },
    {
      "cell_type": "code",
      "metadata": {
        "id": "YyvQ9h3viBAJ"
      },
      "source": [
        "from sklearn.datasets import make_blobs\n",
        "from sklearn.cluster import KMeans\n",
        "from sklearn.metrics import silhouette_samples, silhouette_score\n",
        "import matplotlib.pyplot as plt\n",
        "import matplotlib.cm as cm\n",
        "import numpy as np\n",
        "\n",
        "def cal_silhoutte(X, cluster_labels):\n",
        "    silhouette_score = silhouette_samples(X, cluster_labels)\n",
        "    return silhouette_score\n",
        "\n",
        "def cal_KMEANS_labels(X, n_clusters):\n",
        "    clusterer = KMeans(n_clusters=n_clusters, random_state=10)\n",
        "    cluster_labels = clusterer.fit_predict(X)\n",
        "    return cluster_labels\n",
        "\n",
        "def visualize_clusters(X, n_clusters = 6, cluster_labels = None, \\\n",
        "                                                scoring_method='silhouette'):\n",
        "    if cluster_labels is None:\n",
        "        cluster_labels = cal_KMEANS_labels(X, n_clusters)\n",
        "\n",
        "    score, score_avg = None, None\n",
        "    if scoring_method =='silhouette':\n",
        "        score = cal_silhoutte(X, cluster_labels)\n",
        "        score_avg = silhouette_score(X, cluster_labels)\n",
        "    print(\"For n_clusters =\", n_clusters, \"the average %s score is : %.2f\" \\\n",
        "                                            % (scoring_method, score_avg))\n",
        "\n",
        "    fig, ax1 = plt.subplots(1, 1)\n",
        "    fig.set_size_inches(8, 3)\n",
        "    ax1.set_xlim([-0.1, 1])\n",
        "    ax1.set_ylim([0, len(X) + (n_clusters + 1) * 10])\n",
        "\n",
        "    y_lower = 10\n",
        "    for i in range(n_clusters):\n",
        "        ith_cluster_silhouette_values = score[cluster_labels == i]\n",
        "        ith_cluster_silhouette_values.sort()\n",
        "        size_cluster_i = ith_cluster_silhouette_values.shape[0]\n",
        "        y_upper = y_lower + size_cluster_i\n",
        "        color = cm.nipy_spectral(float(i) / n_clusters)\n",
        "        ax1.fill_betweenx(np.arange(y_lower, y_upper),\n",
        "                        0, ith_cluster_silhouette_values,\n",
        "                        facecolor=color, edgecolor=color, alpha=0.7)\n",
        "        ax1.text(-0.05, y_lower + 0.5 * size_cluster_i, str(i))\n",
        "        y_lower = y_upper + 10  # 10 for the 0 samples\n",
        "\n",
        "    ax1.set_title(\"Plot for the various clusters.\")\n",
        "    ax1.set_xlabel(\"The % score\" % scoring_method)\n",
        "    ax1.set_ylabel(\"Cluster label\")\n",
        "\n",
        "    ax1.axvline(x=score_avg, color=\"red\", linestyle=\"--\")\n",
        "\n",
        "    ax1.set_yticks([])  # Clear the yaxis labels / ticks\n",
        "    ax1.set_xticks([-0.1, 0, 0.2, 0.4, 0.6, 0.8, 1])\n",
        "    plt.show()"
      ],
      "execution_count": null,
      "outputs": []
    },
    {
      "cell_type": "code",
      "metadata": {
        "id": "X6KpaniCiRHx"
      },
      "source": [
        "import matplotlib.pyplot as plt\n",
        "import seaborn as sbn\n",
        "\n",
        "def visualize_learning(param_track, approx):\n",
        "    param_names = param_track[0].keys()\n",
        "    for param_name in param_names:\n",
        "        param_value = [np.exp(param[param_name]) for param in param_track]\n",
        "        plt.plot(range(len(param_value)), param_value)\n",
        "        plt.title(param_name)\n",
        "        plt.show()\n",
        "        print (param_name, param_value)\n",
        "        break\n",
        "    plt.hist(approx)\n",
        "    plt.show()\n",
        "\n",
        "def sigmoid(x):\n",
        "    return 1 / (1 + np.exp(-x))\n",
        "\n",
        "def visualize(loss_track, param_track, approx):\n",
        "    plt.plot(range(len(loss_track)), loss_track)\n",
        "    plt.title('Loss')\n",
        "    plt.show()\n",
        "\n",
        "    param_names = param_track[0].keys()\n",
        "    for param_name in param_names:\n",
        "        param_value = [param[param_name] for param in param_track]\n",
        "        plt.plot(range(len(param_value)), param_value)\n",
        "        plt.title(param_name)\n",
        "        plt.show()\n",
        "    plt.hist(approx)\n",
        "    plt.show()"
      ],
      "execution_count": null,
      "outputs": []
    },
    {
      "cell_type": "markdown",
      "metadata": {
        "id": "fOlKe4Jwf5yl"
      },
      "source": [
        "# Main"
      ]
    },
    {
      "cell_type": "code",
      "metadata": {
        "id": "2WtdYmW1fdYL"
      },
      "source": [
        "import matplotlib.pyplot as plt\n",
        "import seaborn as snb"
      ],
      "execution_count": null,
      "outputs": []
    },
    {
      "cell_type": "code",
      "metadata": {
        "colab": {
          "base_uri": "https://localhost:8080/"
        },
        "id": "5h3RHYnVKV08",
        "outputId": "e626ed74-8e53-4474-8ef2-fb3650a34924"
      },
      "source": [
        "!pip install pyro-ppl"
      ],
      "execution_count": null,
      "outputs": [
        {
          "output_type": "stream",
          "text": [
            "Requirement already satisfied: pyro-ppl in /usr/local/lib/python3.6/dist-packages (1.5.1)\n",
            "Requirement already satisfied: opt-einsum>=2.3.2 in /usr/local/lib/python3.6/dist-packages (from pyro-ppl) (3.3.0)\n",
            "Requirement already satisfied: numpy>=1.7 in /usr/local/lib/python3.6/dist-packages (from pyro-ppl) (1.18.5)\n",
            "Requirement already satisfied: torch>=1.6.0 in /usr/local/lib/python3.6/dist-packages (from pyro-ppl) (1.7.0+cu101)\n",
            "Requirement already satisfied: pyro-api>=0.1.1 in /usr/local/lib/python3.6/dist-packages (from pyro-ppl) (0.1.2)\n",
            "Requirement already satisfied: tqdm>=4.36 in /usr/local/lib/python3.6/dist-packages (from pyro-ppl) (4.41.1)\n",
            "Requirement already satisfied: future in /usr/local/lib/python3.6/dist-packages (from torch>=1.6.0->pyro-ppl) (0.16.0)\n",
            "Requirement already satisfied: dataclasses in /usr/local/lib/python3.6/dist-packages (from torch>=1.6.0->pyro-ppl) (0.8)\n",
            "Requirement already satisfied: typing-extensions in /usr/local/lib/python3.6/dist-packages (from torch>=1.6.0->pyro-ppl) (3.7.4.3)\n"
          ],
          "name": "stdout"
        }
      ]
    },
    {
      "cell_type": "markdown",
      "metadata": {
        "id": "E9w44oUMgrdO"
      },
      "source": [
        "## utils"
      ]
    },
    {
      "cell_type": "code",
      "metadata": {
        "id": "2jGHmWV5gs-c"
      },
      "source": [
        "def scale_minmax(x):\n",
        "    vmin, vmax = torch.min(x), torch.max(x)\n",
        "    return (x - vmin)/(vmax-vmin)\n",
        "\n",
        "def invscale_minmax(x, vmin, vmax):\n",
        "    return x * (vmax - vmin) + vmin\n",
        "\n",
        "def get_mulogvar(x):\n",
        "    mu, log_var = torch.mean(x), torch.log(torch.var(x))\n",
        "    return mu, log_var\n",
        "\n",
        "def log_norm2(x, mu, log_var):\n",
        "    #similar log_norm2, but generate log_var instead var\n",
        "    \"\"\"Compute the log pdf of x,\n",
        "    under a normal distribution with mean mu and standard deviation std.\"\"\"\n",
        "    # return -0.5 * torch.log(2*np.pi*var) -(0.5 * (1/var)* (x-mu)**2)\n",
        "    return -0.5 * (log_var + np.log(2*np.pi)) -(0.5 * (1/torch.exp(log_var))* (x-mu)**2)"
      ],
      "execution_count": null,
      "outputs": []
    },
    {
      "cell_type": "code",
      "metadata": {
        "id": "ukP_M-B_i8et"
      },
      "source": [
        "# see torch.nn.KLDivLoss\n",
        "class KLDiv_Loss(torch.nn.modules.loss._Loss):\n",
        "    def __init__(self, size_average=None, reduce=None, reduction: str = 'mean', log_target: bool = False):\n",
        "        super(KLDiv_Loss, self).__init__(size_average, reduce, reduction)\n",
        "        self.log_target = log_target\n",
        "\n",
        "    def forward(self, input, target):\n",
        "        mu_p, logvar_p = get_mulogvar(target)\n",
        "        log_p = log_norm2(target, mu_p, logvar_p)\n",
        "        mu_q, logvar_q = get_mulogvar(target)\n",
        "        log_q = log_norm2(input, mu_q, logvar_q)\n",
        "        return torch.nn.functional.kl_div(log_q, log_p, reduction=self.reduction, log_target=self.log_target)\n",
        "\n",
        "class ELBO_Loss(torch.nn.modules.loss._Loss):\n",
        "    def __init__(self, size_average=None, reduce=None, reduction: str = 'mean', log_target: bool = False):\n",
        "        super(ELBO_Loss, self).__init__(size_average, reduce, reduction)\n",
        "        self.log_target = log_target\n",
        "        # self.KL_Div = KLDiv_Loss(size_average, reduce, reductio, log_target = True)\n",
        "\n",
        "    def forward(self, input, target):\n",
        "        mu_p, logvar_p = get_mulogvar(target)\n",
        "        log_p = log_norm2(target, mu_p, logvar_p)\n",
        "        mu_q, logvar_q = get_mulogvar(target)\n",
        "        log_q = log_norm2(input, mu_q, logvar_q)\n",
        "        kl_div = torch.nn.functional.kl_div(log_q, log_p, reduction=self.reduction, log_target=self.log_target)\n",
        "        reconstruct_loss = log_norm2(target, mu_q, logvar_q)\n",
        "        if self.reduction == 'mean':\n",
        "            reconstruct_loss = torch.mean(log_p)\n",
        "        else:\n",
        "            reconstruct_loss = torch.sum(log_p)\n",
        "        elbo = reconstruct_loss - kl_div\n",
        "        return -elbo\n",
        "\n",
        "class Combining_Loss(torch.nn.modules.loss._Loss):\n",
        "    def __init__(self, size_average=None, reduce=None, reduction: str = 'mean', log_target: bool = False):\n",
        "        super(Combining_Loss, self).__init__(size_average = size_average, reduce = reduce, reduction = reduction)\n",
        "        self.log_target = log_target\n",
        "\n",
        "    def forward(self, input, target):\n",
        "        mu_p, logvar_p = get_mulogvar(target)\n",
        "        log_p = log_norm2(target, mu_p, logvar_p)\n",
        "        mu_q, logvar_q = get_mulogvar(target)\n",
        "        log_q = log_norm2(input, mu_q, logvar_q)\n",
        "\n",
        "        kl_loss = torch.nn.functional.kl_div(log_q, log_p, reduction=self.reduction, log_target=self.log_target)\n",
        "        reconstruct_loss = torch.nn.functional.mse_loss(input, target, reduction=self.reduction)\n",
        "\n",
        "        loss = -(reconstruct_loss - kl_loss)\n",
        "        return loss"
      ],
      "execution_count": null,
      "outputs": []
    },
    {
      "cell_type": "code",
      "metadata": {
        "id": "IpUuSmzCgtlx"
      },
      "source": [
        "def sgd_training(model, loss_fn, obs, epochs=500):\n",
        "    pyro.clear_param_store()\n",
        "    optim   = torch.optim.Adam(model.parameters(), lr=0.01)\n",
        "\n",
        "    view_step = epochs/10\n",
        "    loss_track, param_track = [], []\n",
        "\n",
        "    for step in range(epochs):\n",
        "        # Computing Loss\n",
        "        y = model().squeeze(-1) #model.forward(), squeeze ~ reshape(,-1)\n",
        "        loss = loss_fn(y, obs)\n",
        "        loss_track.append(loss.item())\n",
        "        param_track.append(model.get_param())\n",
        "\n",
        "        # Tracking\n",
        "        if (loss < 0) or (step==0) or (step % view_step == view_step-1):\n",
        "            print (\"Epoch %d: \" % step)\n",
        "            r = model.get_approx()\n",
        "            rmse = np.sqrt(np.mean((r.data.numpy() - obs.data.numpy())**2))\n",
        "            print ('+ Loss = %.6f, RMSE = %.6f ' % (loss, rmse))\n",
        "            print ('+ Param: ', param_track[-1])\n",
        "            if (loss < 0):\n",
        "                print (\"----Early stopping----\")\n",
        "                break\n",
        "\n",
        "        # Optimizing\n",
        "        optim.zero_grad()\n",
        "        loss.backward()\n",
        "        optim.step()\n",
        "    return loss_track, param_track"
      ],
      "execution_count": null,
      "outputs": []
    },
    {
      "cell_type": "code",
      "metadata": {
        "id": "4eH690BYijXV"
      },
      "source": [
        "def get_values_from_param(param, size, mean_value=0.0):\n",
        "    # latent = np.random.normal(loc=param, scale = scale_latent, size = size)\n",
        "    value = np.random.normal(loc = mean_value, scale = param, size = size)\n",
        "    return value"
      ],
      "execution_count": null,
      "outputs": []
    },
    {
      "cell_type": "code",
      "metadata": {
        "id": "ZdZmdSW_imBP"
      },
      "source": [
        "def get_values_from_tracker(Identity, K, param_dict):\n",
        "    N, M = Identity.shape\n",
        "    V = get_values_from_param(np.exp(0.5*param_dict['logvar_V_param']), (M, K))\n",
        "    W = get_values_from_param(np.exp(0.5*param_dict['logvar_W_param']), (M, K))\n",
        "    Y = get_values_from_param(np.exp(0.5*param_dict['logvar_Y_param']), (N, K))\n",
        "    avg_similarity_weight = np.matmul(np.array(Identity.data.numpy()).astype(float), W)\n",
        "    U = Y + avg_similarity_weight\n",
        "    R = get_values_from_param(np.exp(0.5*param_dict['logvar_R_param']), (N, M), mean_value = sigmoid(np.matmul(U, V.T)))\n",
        "    # print (R.shape, V.shape, U.shape, W.shape, Y.shape)\n",
        "    return R, V, U, W, Y"
      ],
      "execution_count": null,
      "outputs": []
    },
    {
      "cell_type": "markdown",
      "metadata": {
        "id": "HiGBnUFYiqFd"
      },
      "source": [
        "## models"
      ]
    },
    {
      "cell_type": "code",
      "metadata": {
        "id": "46Y8HnKCKcCI"
      },
      "source": [
        "from pyro.nn import PyroModule, PyroSample, PyroParam\n",
        "import pyro.distributions as dist"
      ],
      "execution_count": null,
      "outputs": []
    },
    {
      "cell_type": "code",
      "metadata": {
        "id": "2MfQiSY9itP5"
      },
      "source": [
        "class Neural_PMF_2(PyroModule):\n",
        "    def __init__(self, Identity, latent=16):\n",
        "        super().__init__()\n",
        "        user_dim, item_dim = Identity.shape\n",
        "        self.user_dim, self.item_dim, self.latent_dim = user_dim, item_dim, latent\n",
        "        self.Identity = Identity\n",
        "\n",
        "        self.logvar_V_param  = torch.nn.Parameter(torch.ones(self.latent_dim), requires_grad=True)\n",
        "        self.logvar_W_param  = torch.nn.Parameter(torch.ones(self.latent_dim), requires_grad=True)\n",
        "        self.logvar_U_param  = torch.nn.Parameter(torch.ones(self.latent_dim),requires_grad=True)\n",
        "        self.logvar_R_param  = torch.nn.Parameter(torch.tensor(1.0), requires_grad=True)\n",
        "\n",
        "        self.U, self.W, self.Y, self.R = None, None, None, None\n",
        "\n",
        "    def generate(self):\n",
        "        self.V = PyroSample(dist.Normal(loc=0.0, scale=torch.exp(0.5*self.logvar_V_param)).expand([self.item_dim, self.latent_dim]).to_event(1))\n",
        "        self.W = PyroSample(dist.Normal(loc=0.0, scale=torch.exp(0.5*self.logvar_W_param)).expand([self.item_dim, self.latent_dim]).to_event(1))\n",
        "        self.Y = PyroSample(dist.Normal(loc=0.0, scale=torch.exp(0.5*self.logvar_U_param)).expand([self.user_dim, self.latent_dim]).to_event(1))\n",
        "        avg_similarity_weight = torch.mm(self.Identity, self.W)\n",
        "        self.U = self.Y + avg_similarity_weight\n",
        "        self.mean_R = torch.sigmoid(torch.mm(self.U, self.V.T))\n",
        "        self.R = PyroSample(dist.Normal(loc=self.mean_R, scale=torch.exp(0.5*self.logvar_R_param)))\n",
        "        return self.R\n",
        "\n",
        "    def get_param(self):\n",
        "        return {'logvar_V_param':0.0+self.logvar_V_param.data.numpy(), 'logvar_W_param':0.0+self.logvar_W_param.data.numpy(),\\\n",
        "                'logvar_Y_param':0.0+self.logvar_U_param.data.numpy(), 'logvar_R_param':0.0+self.logvar_R_param.item()}\n",
        "\n",
        "    def forward(self):\n",
        "        return self.generate()\n",
        "\n",
        "    def get_approx(self, n_sample=300):\n",
        "        return self.generate()"
      ],
      "execution_count": null,
      "outputs": []
    },
    {
      "cell_type": "code",
      "metadata": {
        "id": "T-TWhoGADHhK"
      },
      "source": [
        "class NeuralCF(torch.nn.Module):\n",
        "    def __init__(self, n_user, n_item, n_latent=16):\n",
        "        super(NeuralCF, self).__init__()\n",
        "        self.n_user, self.n_item, self.n_latent = n_user, n_item, n_latent\n",
        "        self.user_emb = torch.nn.Embedding(n_user, n_latent, sparse=True)\n",
        "        self.item_emb = torch.nn.Embedding(n_item, n_latent, sparse=True)\n",
        "        self.FC = torch.nn.Linear(n_latent, 1)\n",
        "\n",
        "    def forward(self, X_user, X_item, Y):\n",
        "        user_latent = self.user_emb(X_user)\n",
        "        item_latent = self.item_emb(X_item)\n",
        "        r = torch.sigmoid(self.FC(user_latent + item_latent))\n",
        "        return torch.nn.functional.mse_loss(r, Y, reduction=\"sum\")"
      ],
      "execution_count": null,
      "outputs": []
    },
    {
      "cell_type": "markdown",
      "metadata": {
        "id": "GabJBSNfmlpn"
      },
      "source": [
        "# ProbMF"
      ]
    },
    {
      "cell_type": "code",
      "metadata": {
        "colab": {
          "base_uri": "https://localhost:8080/"
        },
        "id": "aMquz5AWmno_",
        "outputId": "346dd321-2e89-480a-9d06-1c0948853634"
      },
      "source": [
        "model = Neural_PMF_2(Identity)\n",
        "loss_track, param_track = sgd_training(model, ELBO_Loss(), ratings, epochs=50)"
      ],
      "execution_count": null,
      "outputs": [
        {
          "output_type": "stream",
          "text": [
            "/usr/local/lib/python3.6/dist-packages/torch/nn/functional.py:2398: UserWarning: reduction: 'mean' divides the total loss by both the batch size and the support size.'batchmean' divides only by the batch size, and aligns with the KL div math definition.'mean' will be changed to behave the same as 'batchmean' in the next major release.\n",
            "  warnings.warn(\"reduction: 'mean' divides the total loss by both the batch size and the support size.\"\n"
          ],
          "name": "stderr"
        },
        {
          "output_type": "stream",
          "text": [
            "Epoch 0: \n",
            "+ Loss = 0.737815, RMSE = 4.786328 \n",
            "+ Param:  {'logvar_V_param': array([1., 1., 1., 1., 1., 1., 1., 1., 1., 1., 1., 1., 1., 1., 1., 1.],\n",
            "      dtype=float32), 'logvar_W_param': array([1., 1., 1., 1., 1., 1., 1., 1., 1., 1., 1., 1., 1., 1., 1., 1.],\n",
            "      dtype=float32), 'logvar_Y_param': array([1., 1., 1., 1., 1., 1., 1., 1., 1., 1., 1., 1., 1., 1., 1., 1.],\n",
            "      dtype=float32), 'logvar_R_param': 1.0}\n",
            "Epoch 4: \n",
            "+ Loss = 0.737815, RMSE = 4.787800 \n",
            "+ Param:  {'logvar_V_param': array([1., 1., 1., 1., 1., 1., 1., 1., 1., 1., 1., 1., 1., 1., 1., 1.],\n",
            "      dtype=float32), 'logvar_W_param': array([1., 1., 1., 1., 1., 1., 1., 1., 1., 1., 1., 1., 1., 1., 1., 1.],\n",
            "      dtype=float32), 'logvar_Y_param': array([1., 1., 1., 1., 1., 1., 1., 1., 1., 1., 1., 1., 1., 1., 1., 1.],\n",
            "      dtype=float32), 'logvar_R_param': 1.0}\n",
            "Epoch 9: \n",
            "+ Loss = 0.737815, RMSE = 4.788246 \n",
            "+ Param:  {'logvar_V_param': array([1., 1., 1., 1., 1., 1., 1., 1., 1., 1., 1., 1., 1., 1., 1., 1.],\n",
            "      dtype=float32), 'logvar_W_param': array([1., 1., 1., 1., 1., 1., 1., 1., 1., 1., 1., 1., 1., 1., 1., 1.],\n",
            "      dtype=float32), 'logvar_Y_param': array([1., 1., 1., 1., 1., 1., 1., 1., 1., 1., 1., 1., 1., 1., 1., 1.],\n",
            "      dtype=float32), 'logvar_R_param': 1.0}\n",
            "Epoch 14: \n",
            "+ Loss = 0.737815, RMSE = 4.788160 \n",
            "+ Param:  {'logvar_V_param': array([1., 1., 1., 1., 1., 1., 1., 1., 1., 1., 1., 1., 1., 1., 1., 1.],\n",
            "      dtype=float32), 'logvar_W_param': array([1., 1., 1., 1., 1., 1., 1., 1., 1., 1., 1., 1., 1., 1., 1., 1.],\n",
            "      dtype=float32), 'logvar_Y_param': array([1., 1., 1., 1., 1., 1., 1., 1., 1., 1., 1., 1., 1., 1., 1., 1.],\n",
            "      dtype=float32), 'logvar_R_param': 1.0}\n",
            "Epoch 19: \n",
            "+ Loss = 0.737815, RMSE = 4.787079 \n",
            "+ Param:  {'logvar_V_param': array([1., 1., 1., 1., 1., 1., 1., 1., 1., 1., 1., 1., 1., 1., 1., 1.],\n",
            "      dtype=float32), 'logvar_W_param': array([1., 1., 1., 1., 1., 1., 1., 1., 1., 1., 1., 1., 1., 1., 1., 1.],\n",
            "      dtype=float32), 'logvar_Y_param': array([1., 1., 1., 1., 1., 1., 1., 1., 1., 1., 1., 1., 1., 1., 1., 1.],\n",
            "      dtype=float32), 'logvar_R_param': 1.0}\n",
            "Epoch 24: \n",
            "+ Loss = 0.737815, RMSE = 4.787647 \n",
            "+ Param:  {'logvar_V_param': array([1., 1., 1., 1., 1., 1., 1., 1., 1., 1., 1., 1., 1., 1., 1., 1.],\n",
            "      dtype=float32), 'logvar_W_param': array([1., 1., 1., 1., 1., 1., 1., 1., 1., 1., 1., 1., 1., 1., 1., 1.],\n",
            "      dtype=float32), 'logvar_Y_param': array([1., 1., 1., 1., 1., 1., 1., 1., 1., 1., 1., 1., 1., 1., 1., 1.],\n",
            "      dtype=float32), 'logvar_R_param': 1.0}\n",
            "Epoch 29: \n",
            "+ Loss = 0.737815, RMSE = 4.787662 \n",
            "+ Param:  {'logvar_V_param': array([1., 1., 1., 1., 1., 1., 1., 1., 1., 1., 1., 1., 1., 1., 1., 1.],\n",
            "      dtype=float32), 'logvar_W_param': array([1., 1., 1., 1., 1., 1., 1., 1., 1., 1., 1., 1., 1., 1., 1., 1.],\n",
            "      dtype=float32), 'logvar_Y_param': array([1., 1., 1., 1., 1., 1., 1., 1., 1., 1., 1., 1., 1., 1., 1., 1.],\n",
            "      dtype=float32), 'logvar_R_param': 1.0}\n",
            "Epoch 34: \n",
            "+ Loss = 0.737815, RMSE = 4.787721 \n",
            "+ Param:  {'logvar_V_param': array([1., 1., 1., 1., 1., 1., 1., 1., 1., 1., 1., 1., 1., 1., 1., 1.],\n",
            "      dtype=float32), 'logvar_W_param': array([1., 1., 1., 1., 1., 1., 1., 1., 1., 1., 1., 1., 1., 1., 1., 1.],\n",
            "      dtype=float32), 'logvar_Y_param': array([1., 1., 1., 1., 1., 1., 1., 1., 1., 1., 1., 1., 1., 1., 1., 1.],\n",
            "      dtype=float32), 'logvar_R_param': 1.0}\n",
            "Epoch 39: \n",
            "+ Loss = 0.737815, RMSE = 4.788060 \n",
            "+ Param:  {'logvar_V_param': array([1., 1., 1., 1., 1., 1., 1., 1., 1., 1., 1., 1., 1., 1., 1., 1.],\n",
            "      dtype=float32), 'logvar_W_param': array([1., 1., 1., 1., 1., 1., 1., 1., 1., 1., 1., 1., 1., 1., 1., 1.],\n",
            "      dtype=float32), 'logvar_Y_param': array([1., 1., 1., 1., 1., 1., 1., 1., 1., 1., 1., 1., 1., 1., 1., 1.],\n",
            "      dtype=float32), 'logvar_R_param': 1.0}\n",
            "Epoch 44: \n",
            "+ Loss = 0.737815, RMSE = 4.788447 \n",
            "+ Param:  {'logvar_V_param': array([1., 1., 1., 1., 1., 1., 1., 1., 1., 1., 1., 1., 1., 1., 1., 1.],\n",
            "      dtype=float32), 'logvar_W_param': array([1., 1., 1., 1., 1., 1., 1., 1., 1., 1., 1., 1., 1., 1., 1., 1.],\n",
            "      dtype=float32), 'logvar_Y_param': array([1., 1., 1., 1., 1., 1., 1., 1., 1., 1., 1., 1., 1., 1., 1., 1.],\n",
            "      dtype=float32), 'logvar_R_param': 1.0}\n",
            "Epoch 49: \n",
            "+ Loss = 0.737815, RMSE = 4.787636 \n",
            "+ Param:  {'logvar_V_param': array([1., 1., 1., 1., 1., 1., 1., 1., 1., 1., 1., 1., 1., 1., 1., 1.],\n",
            "      dtype=float32), 'logvar_W_param': array([1., 1., 1., 1., 1., 1., 1., 1., 1., 1., 1., 1., 1., 1., 1., 1.],\n",
            "      dtype=float32), 'logvar_Y_param': array([1., 1., 1., 1., 1., 1., 1., 1., 1., 1., 1., 1., 1., 1., 1., 1.],\n",
            "      dtype=float32), 'logvar_R_param': 1.0}\n"
          ],
          "name": "stdout"
        }
      ]
    },
    {
      "cell_type": "code",
      "metadata": {
        "id": "fiamCj-smzYA"
      },
      "source": [],
      "execution_count": null,
      "outputs": []
    },
    {
      "cell_type": "markdown",
      "metadata": {
        "id": "ZzwtKA9JjVGh"
      },
      "source": [
        "## Applying"
      ]
    },
    {
      "cell_type": "code",
      "metadata": {
        "id": "Wy3Lkk4BMEaj"
      },
      "source": [
        "y_scaled = scale_minmax(torch.log(Y)).float()"
      ],
      "execution_count": null,
      "outputs": []
    },
    {
      "cell_type": "code",
      "metadata": {
        "colab": {
          "base_uri": "https://localhost:8080/",
          "height": 349
        },
        "id": "oJTe652BOzSs",
        "outputId": "b550aef8-10cb-4ff4-edb1-6f3c7356f258"
      },
      "source": [
        "plt.hist(y_scaled.data.numpy())"
      ],
      "execution_count": null,
      "outputs": [
        {
          "output_type": "execute_result",
          "data": {
            "text/plain": [
              "(array([ 2596.,  4174., 11242., 39117., 52909., 43081., 17607.,  4440.,\n",
              "          830.,   327.]),\n",
              " array([0. , 0.1, 0.2, 0.3, 0.4, 0.5, 0.6, 0.7, 0.8, 0.9, 1. ],\n",
              "       dtype=float32),\n",
              " <a list of 10 Patch objects>)"
            ]
          },
          "metadata": {
            "tags": []
          },
          "execution_count": 27
        },
        {
          "output_type": "display_data",
          "data": {
            "image/png": "[encoded data removed]",
            "text/plain": [
              "<Figure size 432x288 with 1 Axes>"
            ]
          },
          "metadata": {
            "tags": [],
            "needs_background": "light"
          }
        }
      ]
    },
    {
      "cell_type": "code",
      "metadata": {
        "id": "9cZxdkoajV-P"
      },
      "source": [
        "def training(X_user, X_item, y, batch_size=2500):\n",
        "    loss_fn = torch.nn.MSELoss()\n",
        "    model = NeuralCF(n_user, n_item, 16)\n",
        "    optim = torch.optim.SGD (model.parameters(), lr = 0.1)\n",
        "\n",
        "    epochs = 20\n",
        "    n_samples = len(X_user)\n",
        "    idx = np.array(range(n_samples))\n",
        "    n_batch = int((n_samples-1)/batch_size )+1\n",
        "\n",
        "    for epoch in range(epochs):\n",
        "        np.random.shuffle(idx)\n",
        "        batch_loss = 0.0\n",
        "        for batch in range(n_batch):\n",
        "            batch_idx = idx[batch*batch_size:(batch+1)*batch_size]\n",
        "            loss = model(X_user, X_item, y)\n",
        "            model.zero_grad()\n",
        "            loss.backward()\n",
        "            batch_loss += loss/n_batch\n",
        "        if (epoch == 0) or (epoch % (epochs/5)==(epochs/5)-1):\n",
        "            print (\"Epoch %3d: %.4f \" % (epoch, batch_loss.item()))\n",
        "        optim.step()"
      ],
      "execution_count": null,
      "outputs": []
    },
    {
      "cell_type": "code",
      "metadata": {
        "colab": {
          "base_uri": "https://localhost:8080/"
        },
        "id": "QX9uq9CGLbNy",
        "outputId": "a024dbb3-b1be-4329-e8c7-4b9b51619f22"
      },
      "source": [
        "training(X_user, X_item, y_scaled, batch_size=1000)"
      ],
      "execution_count": null,
      "outputs": [
        {
          "output_type": "stream",
          "text": [
            "/usr/local/lib/python3.6/dist-packages/ipykernel_launcher.py:13: UserWarning: Using a target size (torch.Size([176323])) that is different to the input size (torch.Size([176323, 1])). This will likely lead to incorrect results due to broadcasting. Please ensure they have the same size.\n",
            "  del sys.path[0]\n"
          ],
          "name": "stderr"
        }
      ]
    },
    {
      "cell_type": "code",
      "metadata": {
        "colab": {
          "base_uri": "https://localhost:8080/"
        },
        "id": "bVffn21eMBTf",
        "outputId": "c2c653fc-52fb-43a5-a059-52a345162fe4"
      },
      "source": [
        "y_scaled"
      ],
      "execution_count": null,
      "outputs": [
        {
          "output_type": "execute_result",
          "data": {
            "text/plain": [
              "tensor([1.0000, 0.6149, 0.5659,  ..., 0.5519, 0.5519, 0.5519])"
            ]
          },
          "metadata": {
            "tags": []
          },
          "execution_count": 88
        }
      ]
    },
    {
      "cell_type": "code",
      "metadata": {
        "id": "0wZcNWaCNGW4"
      },
      "source": [],
      "execution_count": null,
      "outputs": []
    }
  ]
}